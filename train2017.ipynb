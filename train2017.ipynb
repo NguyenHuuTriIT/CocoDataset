{
 "cells": [
  {
   "cell_type": "code",
   "execution_count": 1,
   "id": "initial_id",
   "metadata": {
    "collapsed": true,
    "ExecuteTime": {
     "end_time": "2024-11-11T12:01:37.243609100Z",
     "start_time": "2024-11-11T11:47:31.656585100Z"
    }
   },
   "outputs": [
    {
     "name": "stdout",
     "output_type": "stream",
     "text": [
      "loading annotations into memory...\n",
      "Done (t=12.64s)\n",
      "creating index...\n",
      "index created!\n",
      "Đã xử lý thành công 11692 ảnh gốc.\n"
     ]
    }
   ],
   "source": [
    "import json\n",
    "import cv2\n",
    "import numpy as np\n",
    "from pycocotools.coco import COCO\n",
    "from pathlib import Path\n",
    "import os\n",
    "\n",
    "# Đường dẫn tới thư mục chứa ảnh và file chú thích\n",
    "data_dir = Path(\"D:/THUC_TAP/train2017\")  # Cập nhật thành train2017\n",
    "annotation_file = Path(\"D:/THUC_TAP/annotations/instances_train2017.json\")  # Cập nhật thành train2017\n",
    "\n",
    "# Thư mục để lưu ảnh sau khi xử lý\n",
    "output_dir = Path(\"Project_test2/picture2\")\n",
    "os.makedirs(output_dir, exist_ok=True)\n",
    "\n",
    "# Tải file chú thích\n",
    "coco = COCO(annotation_file)\n",
    "\n",
    "# Hàm tách toàn bộ vật thể và lưu ảnh vào thư mục riêng biệt cho mỗi ảnh gốc\n",
    "def extract_and_save_all_objects(image_id):\n",
    "    # Lấy thông tin của ảnh\n",
    "    image_info = coco.loadImgs(image_id)[0]\n",
    "    img_path = data_dir / image_info['file_name']\n",
    "    img = cv2.imread(str(img_path))\n",
    "    \n",
    "    # Kiểm tra xem ảnh có được tải thành công không\n",
    "    if img is None:\n",
    "        return False  # Trả về False nếu không tải được\n",
    "    \n",
    "    # Tạo thư mục con cho ảnh gốc\n",
    "    img_output_dir = output_dir / f\"{image_info['file_name'].split('.')[0]}\"\n",
    "    os.makedirs(img_output_dir, exist_ok=True)\n",
    "\n",
    "    # Lưu ảnh gốc vào thư mục con\n",
    "    cv2.imwrite(str(img_output_dir / \"original.png\"), img)\n",
    "    \n",
    "    # Lấy mặt nạ cho tất cả các vật thể trong ảnh\n",
    "    ann_ids = coco.getAnnIds(imgIds=image_id, iscrowd=0)\n",
    "    anns = coco.loadAnns(ann_ids)\n",
    "    \n",
    "    for i, ann in enumerate(anns):\n",
    "        # Tạo mask cho vật thể\n",
    "        mask = coco.annToMask(ann) * 255\n",
    "        object_img = cv2.bitwise_and(img, img, mask=mask.astype(np.uint8))\n",
    "        \n",
    "        # Lưu ảnh tách vật thể\n",
    "        obj_output_path = img_output_dir / f\"object_{i}.png\"\n",
    "        cv2.imwrite(str(obj_output_path), object_img)\n",
    "\n",
    "        # Chuyển ảnh sang trắng đen\n",
    "        bw_img = np.where(mask == 255, 255, 0).astype(np.uint8)\n",
    "        bw_output_path = img_output_dir / f\"object_{i}_bw.png\"\n",
    "        cv2.imwrite(str(bw_output_path), bw_img)\n",
    "    \n",
    "    return True  # Trả về True nếu xử lý thành công\n",
    "\n",
    "# Thực hiện tách vật thể cho tất cả các ảnh\n",
    "image_ids = coco.getImgIds()  # Lấy tất cả ID ảnh\n",
    "successful_count = 0\n",
    "for image_id in image_ids:\n",
    "    if extract_and_save_all_objects(image_id):\n",
    "        successful_count += 1\n",
    "\n",
    "print(f\"Đã xử lý thành công {successful_count} ảnh gốc.\")\n"
   ]
  },
  {
   "cell_type": "code",
   "execution_count": null,
   "outputs": [],
   "source": [],
   "metadata": {
    "collapsed": false
   },
   "id": "8bc05731a8d21121"
  }
 ],
 "metadata": {
  "kernelspec": {
   "display_name": "Python 3",
   "language": "python",
   "name": "python3"
  },
  "language_info": {
   "codemirror_mode": {
    "name": "ipython",
    "version": 2
   },
   "file_extension": ".py",
   "mimetype": "text/x-python",
   "name": "python",
   "nbconvert_exporter": "python",
   "pygments_lexer": "ipython2",
   "version": "2.7.6"
  }
 },
 "nbformat": 4,
 "nbformat_minor": 5
}
