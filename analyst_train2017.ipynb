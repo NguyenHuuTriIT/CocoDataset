{
 "cells": [
  {
   "cell_type": "code",
   "execution_count": 1,
   "id": "initial_id",
   "metadata": {
    "collapsed": true,
    "ExecuteTime": {
     "end_time": "2024-11-11T12:19:32.195152300Z",
     "start_time": "2024-11-11T12:09:41.674478500Z"
    }
   },
   "outputs": [
    {
     "name": "stdout",
     "output_type": "stream",
     "text": [
      "Thống kê diện tích vật thể đã tách:\n",
      "area_category\n",
      "0-1%       48670\n",
      "1-10%      25632\n",
      "10-20%      4964\n",
      "20-70%      4263\n",
      "70-100%      479\n",
      "Name: count, dtype: int64\n",
      "\n",
      "Kết quả đã lưu thành công vào Project_test2\\data2\\object_analysis2.csv\n"
     ]
    }
   ],
   "source": [
    "import cv2\n",
    "import numpy as np\n",
    "import pandas as pd\n",
    "from pathlib import Path\n",
    "import os\n",
    "\n",
    "# Đường dẫn tới thư mục ảnh đen trắng sau khi đã phân tách\n",
    "bw_output_dir = Path(\"Project_test2/picture2\")\n",
    "\n",
    "# Đảm bảo thư mục lưu file CSV tồn tại\n",
    "csv_output_dir = Path(\"Project_test2/data2\")\n",
    "csv_output_dir.mkdir(parents=True, exist_ok=True)\n",
    "\n",
    "# Hàm phân loại diện tích vật thể theo nhóm phần trăm\n",
    "def classify_area_percentage(area_percentage):\n",
    "    if area_percentage < 1:\n",
    "        return \"0-1%\"  \n",
    "    elif area_percentage < 10:\n",
    "        return \"1-10%\"\n",
    "    elif area_percentage < 20:\n",
    "        return \"10-20%\"\n",
    "    elif area_percentage < 70:\n",
    "        return \"20-70%\"\n",
    "    else:\n",
    "        return \"70-100%\"\n",
    "\n",
    "# Kiểm tra xem vật thể có dính nền không\n",
    "def check_object_background(bw_img):\n",
    "    contours, _ = cv2.findContours(bw_img, cv2.RETR_EXTERNAL, cv2.CHAIN_APPROX_SIMPLE)\n",
    "    for contour in contours:\n",
    "        if cv2.contourArea(contour) > 0:\n",
    "            x, y, w, h = cv2.boundingRect(contour)\n",
    "            edge_pixels = bw_img[y:y+h, x:x+w].flatten()\n",
    "            if np.any(edge_pixels == 255):\n",
    "                return \"Có thể có dính nền\"\n",
    "    return \"Không dính nền\"\n",
    "\n",
    "# Thống kê phần trăm diện tích vật thể cho mỗi ảnh trong thư mục và lưu vào CSV\n",
    "results = []\n",
    "\n",
    "for subfolder in bw_output_dir.glob(\"*\"):  # Mỗi thư mục con chứa ảnh gốc và ảnh vật thể\n",
    "    if subfolder.is_dir():\n",
    "        original_img_path = subfolder / \"original.png\"\n",
    "        objects = list(subfolder.glob(\"object_*_bw.png\"))\n",
    "        \n",
    "        for obj_path in objects:\n",
    "            # Đọc ảnh đen trắng\n",
    "            bw_img = cv2.imread(str(obj_path), 0)\n",
    "            if bw_img is None:\n",
    "                continue  # Bỏ qua nếu ảnh không tải được\n",
    "            \n",
    "            h, w = bw_img.shape\n",
    "            area_percentage = (np.sum(bw_img == 255) / (h * w)) * 100\n",
    "            area_category = classify_area_percentage(area_percentage)\n",
    "            background_check = check_object_background(bw_img)\n",
    "            \n",
    "            # Lưu kết quả cho mỗi vật thể\n",
    "            results.append({\n",
    "                \"image_name\": subfolder.name,\n",
    "                \"object_name\": obj_path.stem,\n",
    "                \"area_percentage\": area_percentage,\n",
    "                \"area_category\": area_category,\n",
    "                \"background_check\": background_check\n",
    "            })\n",
    "\n",
    "# Lưu kết quả thống kê vào file CSV\n",
    "df_results = pd.DataFrame(results)\n",
    "csv_output_path = csv_output_dir / \"object_analysis2.csv\"\n",
    "df_results.to_csv(csv_output_path, index=False)\n",
    "\n",
    "# Báo cáo tổng quan về diện tích vật thể\n",
    "print(\"Thống kê diện tích vật thể đã tách:\")\n",
    "print(df_results[\"area_category\"].value_counts())\n",
    "\n",
    "print(f\"\\nKết quả đã lưu thành công vào {csv_output_path}\")\n"
   ]
  },
  {
   "cell_type": "code",
   "execution_count": null,
   "outputs": [],
   "source": [],
   "metadata": {
    "collapsed": false
   },
   "id": "b28c6ec8839d3d2a"
  }
 ],
 "metadata": {
  "kernelspec": {
   "display_name": "Python 3",
   "language": "python",
   "name": "python3"
  },
  "language_info": {
   "codemirror_mode": {
    "name": "ipython",
    "version": 2
   },
   "file_extension": ".py",
   "mimetype": "text/x-python",
   "name": "python",
   "nbconvert_exporter": "python",
   "pygments_lexer": "ipython2",
   "version": "2.7.6"
  }
 },
 "nbformat": 4,
 "nbformat_minor": 5
}
